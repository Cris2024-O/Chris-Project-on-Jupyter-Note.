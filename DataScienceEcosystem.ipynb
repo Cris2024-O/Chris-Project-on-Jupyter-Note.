{
 "cells": [
  {
   "cell_type": "markdown",
   "id": "2e8982b7-8e75-4ef3-99a7-650b3ba6ecad",
   "metadata": {},
   "source": [
    "# Data Science Tools and Ecosystem"
   ]
  },
  {
   "cell_type": "markdown",
   "id": "9e9f49c5-0f67-4c6c-b52c-09fada67bdf3",
   "metadata": {},
   "source": [
    "In this notebook, Data Science Tools and Ecosystem are summarized."
   ]
  },
  {
   "cell_type": "markdown",
   "id": "626dbc14-13ad-4505-8852-369715dfffbe",
   "metadata": {},
   "source": [
    "# Objective :\n",
    "- Data Scientist languages.\n",
    "- Data Scientist libraries.\n",
    "- Data Science Tools.\n",
    "- Evaluating Arithmetic expressions."
   ]
  },
  {
   "cell_type": "markdown",
   "id": "65feb355-882b-46c3-bf36-0e5c11c4e3c1",
   "metadata": {},
   "source": [
    "Some of the popular languages that a Data Scientist use are: "
   ]
  },
  {
   "cell_type": "markdown",
   "id": "d354cb10-05af-4271-a417-fd376f0008e1",
   "metadata": {},
   "source": [
    "1. Python\n",
    "2. Java\n",
    "3. Julia\n",
    "4. JavaScript\n",
    "5. R"
   ]
  },
  {
   "cell_type": "markdown",
   "id": "884a89da-7f7e-4720-8789-04e00b7df2fd",
   "metadata": {},
   "source": [
    "Some of the commonly used libraries used by Data Scientists include:"
   ]
  },
  {
   "cell_type": "markdown",
   "id": "7fc43af1-6404-47a1-8f5b-13c1362cb8b2",
   "metadata": {},
   "source": [
    "Deep Learning\n",
    "Pandas\n",
    "Numpy\n",
    "Matplotlib\n",
    "TensorFlow"
   ]
  },
  {
   "cell_type": "markdown",
   "id": "df73ab98-39f1-468f-ab4e-29e65917370a",
   "metadata": {},
   "source": [
    "# Data Science Tools."
   ]
  },
  {
   "cell_type": "markdown",
   "id": "9835ff45-19fc-43ad-948e-9ff95253d1be",
   "metadata": {},
   "source": [
    "| Jupyter Notebook | Rstudio | MATLAB |"
   ]
  },
  {
   "cell_type": "markdown",
   "id": "4dd5a6a6-b31e-4ec7-83d2-5ceedbf37d9b",
   "metadata": {},
   "source": [
    "### Below are few examples of evaluating arithmetic expressions in Python ."
   ]
  },
  {
   "cell_type": "code",
   "execution_count": null,
   "id": "40515fb4-053a-4510-a5af-a83430b48382",
   "metadata": {},
   "outputs": [],
   "source": [
    "This a simple arithmetic expression to multiply then add integers "
   ]
  },
  {
   "cell_type": "code",
   "execution_count": 39,
   "id": "b61cd2b2-98f5-432f-a5f0-81a1c091aabc",
   "metadata": {},
   "outputs": [
    {
     "data": {
      "text/plain": [
       "17"
      ]
     },
     "execution_count": 39,
     "metadata": {},
     "output_type": "execute_result"
    }
   ],
   "source": [
    "(3*4)+5"
   ]
  },
  {
   "cell_type": "markdown",
   "id": "2f70fe98-e5ea-4737-9dd7-962c951aa580",
   "metadata": {},
   "source": [
    "This will convert 200 minutes to hours by diving by 60"
   ]
  },
  {
   "cell_type": "code",
   "execution_count": 43,
   "id": "70ea3c1c-6436-4d94-81b6-c6759e2a3c87",
   "metadata": {},
   "outputs": [
    {
     "data": {
      "text/plain": [
       "3.3333333333333335"
      ]
     },
     "execution_count": 43,
     "metadata": {},
     "output_type": "execute_result"
    }
   ],
   "source": [
    "200/60"
   ]
  },
  {
   "cell_type": "markdown",
   "id": "7d935f82-342e-479b-877c-eac3607b9da3",
   "metadata": {},
   "source": [
    "## Author\n",
    "Christopher Okogwu"
   ]
  },
  {
   "cell_type": "code",
   "execution_count": null,
   "id": "2fb4581a-c424-4d8d-8e81-2658f0ada775",
   "metadata": {},
   "outputs": [],
   "source": []
  }
 ],
 "metadata": {
  "kernelspec": {
   "display_name": "anaconda-panel-2023.05-py310",
   "language": "python",
   "name": "conda-env-anaconda-panel-2023.05-py310-py"
  },
  "language_info": {
   "codemirror_mode": {
    "name": "ipython",
    "version": 3
   },
   "file_extension": ".py",
   "mimetype": "text/x-python",
   "name": "python",
   "nbconvert_exporter": "python",
   "pygments_lexer": "ipython3",
   "version": "3.11.5"
  }
 },
 "nbformat": 4,
 "nbformat_minor": 5
}
